{
 "cells": [
  {
   "cell_type": "code",
   "execution_count": 1,
   "id": "26c45244",
   "metadata": {},
   "outputs": [],
   "source": [
    "import collections\n",
    "import csv\n",
    "import functools\n",
    "import operator\n",
    "from collections import Counter\n",
    "from random import randint\n",
    "\n",
    "import matplotlib.pyplot as plt\n",
    "import numpy as np\n"
   ]
  },
  {
   "cell_type": "code",
   "execution_count": 2,
   "id": "c2d23688",
   "metadata": {},
   "outputs": [],
   "source": [
    "class Player:\n",
    "\n",
    "    def __init__(self, name, position, movements):\n",
    "        self.name = name\n",
    "        self.position = position\n",
    "        self.movements = movements\n",
    "\n",
    "    def give_name(self):\n",
    "        return self.name\n",
    "\n",
    "    def give_position(self):\n",
    "        return self.position\n",
    "\n",
    "    def give_movements(self):\n",
    "        return self.movements\n",
    "\n",
    "    def change_position(self, new_pos):\n",
    "        self.position = new_pos\n",
    "\n",
    "    def update_movements(self, mov):\n",
    "        self.movements.append(mov)\n"
   ]
  },
  {
   "cell_type": "code",
   "execution_count": 3,
   "id": "5db24af7",
   "metadata": {},
   "outputs": [],
   "source": [
    "def roll(player):\n",
    "    d1 = randint(1, 6)\n",
    "    d2 = randint(1, 6)\n",
    "    player.change_position((player.give_position()+d1+d2) % 40)\n"
   ]
  },
  {
   "cell_type": "code",
   "execution_count": 4,
   "id": "49a22819",
   "metadata": {},
   "outputs": [],
   "source": [
    "p1 = Player(\"P1\", 0, [])\n",
    "p2 = Player(\"P2\", 0, [])\n",
    "p3 = Player(\"P3\", 0, [])\n",
    "p4 = Player(\"P4\", 0, [])\n",
    "\n",
    "p1_games = []\n",
    "p2_games = []\n",
    "p3_games = []\n",
    "p4_games = []\n",
    "\n",
    "player_list = [p1, p2, p3, p4]\n",
    "pos_list = np.arange(0, 41)\n"
   ]
  },
  {
   "cell_type": "code",
   "execution_count": 5,
   "id": "b011bb67",
   "metadata": {},
   "outputs": [],
   "source": [
    "def game(player_list):\n",
    "    for var in range(0, 50):\n",
    "        for player in player_list:\n",
    "            roll(player)\n",
    "            player.update_movements(player.give_position())\n"
   ]
  },
  {
   "cell_type": "code",
   "execution_count": 6,
   "id": "2ca74bb4",
   "metadata": {},
   "outputs": [],
   "source": [
    "# Simulate games and save the movements on pn_games\n",
    "def simulate_games(n):\n",
    "    for var in range(n):\n",
    "        p1 = Player(\"P1\", 0, [])\n",
    "        p2 = Player(\"P2\", 0, [])\n",
    "        p3 = Player(\"P3\", 0, [])\n",
    "        p4 = Player(\"P4\", 0, [])\n",
    "\n",
    "        player_list = [p1, p2, p3, p4]\n",
    "\n",
    "        game(player_list)\n",
    "\n",
    "        p1_games.append(dict(Counter(p1.give_movements())))\n",
    "        p2_games.append(dict(Counter(p2.give_movements())))\n",
    "        p3_games.append(dict(Counter(p3.give_movements())))\n",
    "        p4_games.append(dict(Counter(p4.give_movements())))\n",
    "\n",
    "        del p1, p2, p3, p4\n"
   ]
  },
  {
   "cell_type": "code",
   "execution_count": 7,
   "id": "7313075d",
   "metadata": {},
   "outputs": [],
   "source": [
    "simulate_games(10000)\n"
   ]
  },
  {
   "cell_type": "code",
   "execution_count": 8,
   "id": "0959d365",
   "metadata": {},
   "outputs": [],
   "source": [
    "# Created a counter to meassure the number of times a player lands on a specific position\n",
    "counter = Counter()\n",
    "\n",
    "for d in p1_games:\n",
    "    counter.update(d)\n",
    "\n",
    "for d in p2_games:\n",
    "    counter.update(d)\n",
    "\n",
    "for d in p3_games:\n",
    "    counter.update(d)\n",
    "\n",
    "for d in p4_games:\n",
    "    counter.update(d)\n"
   ]
  },
  {
   "cell_type": "code",
   "execution_count": 9,
   "id": "2e7725ce",
   "metadata": {},
   "outputs": [],
   "source": [
    "stats = {}\n",
    "for i in sorted(counter):\n",
    "    stats[i] = counter[i]\n"
   ]
  },
  {
   "cell_type": "code",
   "execution_count": 10,
   "id": "0c3814e0",
   "metadata": {},
   "outputs": [
    {
     "data": {
      "image/png": "[encoded data removed]",
      "text/plain": [
       "<Figure size 864x576 with 1 Axes>"
      ]
     },
     "metadata": {
      "needs_background": "light"
     },
     "output_type": "display_data"
    }
   ],
   "source": [
    "fig = plt.figure(figsize=(12, 8))\n",
    "plt.bar(list(stats.keys()), list(stats.values()), color='g',\n",
    "        width=0.7, align='center', edgecolor='black')\n",
    "plt.title(\"Simulations Results\")\n",
    "plt.xlabel(\"Position\")\n",
    "plt.ylabel(\"Frequency\")\n",
    "plt.ylim(min(list(stats.values()))-500, max(list(stats.values()))+100)\n",
    "plt.xticks(pos_list)\n",
    "plt.show()\n"
   ]
  },
  {
   "cell_type": "code",
   "execution_count": 11,
   "id": "adbe1063",
   "metadata": {},
   "outputs": [],
   "source": [
    "s = sum(stats.values())\n",
    "dic = {}\n",
    "for k, v in stats.items():\n",
    "    pct = v * 100.0 / s\n",
    "    dic[k] = pct\n"
   ]
  },
  {
   "cell_type": "code",
   "execution_count": 12,
   "id": "69cacd9b",
   "metadata": {},
   "outputs": [
    {
     "data": {
      "image/png": "[encoded data removed]",
      "text/plain": [
       "<Figure size 864x576 with 1 Axes>"
      ]
     },
     "metadata": {
      "needs_background": "light"
     },
     "output_type": "display_data"
    }
   ],
   "source": [
    "fig = plt.figure(figsize=(12, 8))\n",
    "plt.bar(list(dic.keys()), list(dic.values()), color='g',\n",
    "        width=0.7, align='center', edgecolor='black')\n",
    "plt.title(\"Simulations Results\")\n",
    "plt.xlabel(\"Position\")\n",
    "plt.ylabel(\"Percentage(%)\")\n",
    "plt.ylim(min(list(dic.values()))-0.2, max(list(dic.values()))+0.1)\n",
    "plt.xticks(pos_list)\n",
    "plt.show()\n"
   ]
  }
 ],
 "metadata": {
  "kernelspec": {
   "display_name": "Python 3.9.12 ('base')",
   "language": "python",
   "name": "python3"
  },
  "language_info": {
   "codemirror_mode": {
    "name": "ipython",
    "version": 3
   },
   "file_extension": ".py",
   "mimetype": "text/x-python",
   "name": "python",
   "nbconvert_exporter": "python",
   "pygments_lexer": "ipython3",
   "version": "3.9.12"
  },
  "vscode": {
   "interpreter": {
    "hash": "b3ff5c1b5424807e928bf8bee38bc8a3478b3941c229b42d5add67274bc7395e"
   }
  }
 },
 "nbformat": 4,
 "nbformat_minor": 5
}
