{
 "cells": [
  {
   "cell_type": "code",
   "execution_count": 1,
   "id": "26c45244",
   "metadata": {},
   "outputs": [],
   "source": [
    "import collections\n",
    "import csv\n",
    "import functools\n",
    "import operator\n",
    "from collections import Counter\n",
    "from random import randint\n",
    "\n",
    "import matplotlib.pyplot as plt\n",
    "import numpy as np"
   ]
  },
  {
   "cell_type": "code",
   "execution_count": 2,
   "id": "c2d23688",
   "metadata": {},
   "outputs": [],
   "source": [
    "class Player:\n",
    "\n",
    "    def __init__(self, name, position, movements):\n",
    "        self.name = name\n",
    "        self.position = position\n",
    "        self.movements = movements\n",
    "    \n",
    "    def give_name(self):\n",
    "        return self.name\n",
    "    \n",
    "    def give_position(self):\n",
    "        return self.position\n",
    "    \n",
    "    def give_movements(self):\n",
    "        return self.movements\n",
    "    \n",
    "    def change_position(self, new_pos):\n",
    "        self.position = new_pos\n",
    "        \n",
    "    def update_movements(self, mov):\n",
    "        self.movements.append(mov)"
   ]
  },
  {
   "cell_type": "code",
   "execution_count": 3,
   "id": "5db24af7",
   "metadata": {},
   "outputs": [],
   "source": [
    "def roll (player):\n",
    "    d1=randint(1,6)\n",
    "    d2=randint(1,6)\n",
    "    player.change_position( (player.give_position()+d1+d2)%40 )"
   ]
  },
  {
   "cell_type": "code",
   "execution_count": 4,
   "id": "49a22819",
   "metadata": {},
   "outputs": [],
   "source": [
    "p1 = Player(\"P1\", 0, [])\n",
    "p2 = Player(\"P2\", 0, [])\n",
    "p3 = Player(\"P3\", 0, [])\n",
    "p4 = Player(\"P4\", 0, [])\n",
    "        \n",
    "p1_games = []\n",
    "p2_games = []\n",
    "p3_games = []\n",
    "p4_games = []\n",
    "        \n",
    "player_list = [p1,p2,p3,p4]\n",
    "pos_list = np.arange(0,41)"
   ]
  },
  {
   "cell_type": "code",
   "execution_count": 5,
   "id": "b011bb67",
   "metadata": {},
   "outputs": [],
   "source": [
    "def game(player_list):\n",
    "    for var in range(0,50):\n",
    "        for player in player_list:\n",
    "            roll(player)\n",
    "            player.update_movements( player.give_position() )"
   ]
  },
  {
   "cell_type": "code",
   "execution_count": 6,
   "id": "2ca74bb4",
   "metadata": {},
   "outputs": [],
   "source": [
    "#Simulate games and save the movements on pn_games\n",
    "def simulate_games(n):\n",
    "    for var in range(n):\n",
    "        p1 = Player(\"P1\", 0, [])\n",
    "        p2 = Player(\"P2\", 0, [])\n",
    "        p3 = Player(\"P3\", 0, [])\n",
    "        p4 = Player(\"P4\", 0, [])\n",
    "        \n",
    "        \n",
    "        player_list = [p1,p2,p3,p4]\n",
    "\n",
    "        game(player_list)\n",
    "        \n",
    "        p1_games.append(dict( Counter(p1.give_movements()) ) )\n",
    "        p2_games.append(dict( Counter(p2.give_movements()) ) )\n",
    "        p3_games.append(dict( Counter(p3.give_movements()) ) )\n",
    "        p4_games.append(dict( Counter(p4.give_movements()) ) )\n",
    "        \n",
    "        del p1, p2, p3, p4\n",
    "    "
   ]
  },
  {
   "cell_type": "code",
   "execution_count": 7,
   "id": "7313075d",
   "metadata": {},
   "outputs": [],
   "source": [
    "simulate_games(1000)"
   ]
  },
  {
   "cell_type": "code",
   "execution_count": 8,
   "id": "0959d365",
   "metadata": {},
   "outputs": [],
   "source": [
    "counter = collections.Counter()\n",
    "    \n",
    "for d in p1_games: \n",
    "    counter.update(d)        "
   ]
  },
  {
   "cell_type": "markdown",
   "id": "19b5246d",
   "metadata": {},
   "source": [
    "counter = collections.Counter()\n",
    "for d in p1_games: \n",
    "    counter.update(d)"
   ]
  },
  {
   "cell_type": "code",
   "execution_count": 9,
   "id": "2e7725ce",
   "metadata": {},
   "outputs": [
    {
     "name": "stdout",
     "output_type": "stream",
     "text": [
      "{0: 1157, 1: 1240, 2: 1239, 3: 1193, 4: 1220, 5: 1247, 6: 1306, 7: 1313, 8: 1370, 9: 1353, 10: 1298, 11: 1315, 12: 1234, 13: 1304, 14: 1283, 15: 1280, 16: 1277, 17: 1285, 18: 1234, 19: 1268, 20: 1272, 21: 1293, 22: 1263, 23: 1214, 24: 1276, 25: 1254, 26: 1169, 27: 1209, 28: 1203, 29: 1293, 30: 1200, 31: 1315, 32: 1218, 33: 1213, 34: 1187, 35: 1185, 36: 1228, 37: 1167, 38: 1256, 39: 1169}\n"
     ]
    }
   ],
   "source": [
    "stats={}\n",
    "for i in sorted(counter):\n",
    "   stats[i]=counter[i]\n",
    "print(stats)"
   ]
  },
  {
   "cell_type": "code",
   "execution_count": 10,
   "id": "0c3814e0",
   "metadata": {},
   "outputs": [
    {
     "data": {
      "image/png": "[encoded data removed]",
      "text/plain": [
       "<Figure size 432x288 with 1 Axes>"
      ]
     },
     "metadata": {
      "needs_background": "light"
     },
     "output_type": "display_data"
    }
   ],
   "source": [
    "plt.bar(list(stats.keys()), list(stats.values()))\n",
    "plt.show()"
   ]
  },
  {
   "cell_type": "code",
   "execution_count": 16,
   "id": "adbe1063",
   "metadata": {},
   "outputs": [
    {
     "name": "stdout",
     "output_type": "stream",
     "text": [
      "2.314\n"
     ]
    }
   ],
   "source": [
    "s = sum(stats.values())\n",
    "dic={}\n",
    "for k, v in stats.items():\n",
    "    pct = v * 100.0 / s\n",
    "    dic[k]= pct"
   ]
  },
  {
   "cell_type": "markdown",
   "id": "e7ae231b",
   "metadata": {},
   "source": [
    "p1_total = dict(functools.reduce(operator.add,\n",
    "         map(collections.Counter, p1_games)))"
   ]
  }
 ],
 "metadata": {
  "kernelspec": {
   "display_name": "Python 3 (ipykernel)",
   "language": "python",
   "name": "python3"
  },
  "language_info": {
   "codemirror_mode": {
    "name": "ipython",
    "version": 3
   },
   "file_extension": ".py",
   "mimetype": "text/x-python",
   "name": "python",
   "nbconvert_exporter": "python",
   "pygments_lexer": "ipython3",
   "version": "3.9.7"
  }
 },
 "nbformat": 4,
 "nbformat_minor": 5
}
