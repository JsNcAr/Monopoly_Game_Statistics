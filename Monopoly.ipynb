{
 "cells": [
  {
   "cell_type": "code",
   "execution_count": 1,
   "id": "26c45244",
   "metadata": {},
   "outputs": [],
   "source": [
    "import numpy as np\n",
    "from random import randint\n",
    "from collections import Counter\n",
    "import csv \n",
    "import collections, functools, operator"
   ]
  },
  {
   "cell_type": "code",
   "execution_count": 2,
   "id": "c2d23688",
   "metadata": {},
   "outputs": [],
   "source": [
    "class Player:\n",
    "\n",
    "    def __init__(self, name, position, movements):\n",
    "        self.name = name\n",
    "        self.position = position\n",
    "        self.movements = movements\n",
    "    \n",
    "    def give_name(self):\n",
    "        return self.name\n",
    "    \n",
    "    def give_position(self):\n",
    "        return self.position\n",
    "    \n",
    "    def give_movements(self):\n",
    "        return self.movements\n",
    "    \n",
    "    def change_position(self, new_pos):\n",
    "        self.position = new_pos\n",
    "        \n",
    "    def update_movements(self, mov):\n",
    "        self.movements.append(mov)"
   ]
  },
  {
   "cell_type": "code",
   "execution_count": 3,
   "id": "5db24af7",
   "metadata": {},
   "outputs": [],
   "source": [
    "def roll (player):\n",
    "    d1=randint(1,6)\n",
    "    d2=randint(1,6)\n",
    "    player.change_position( (player.give_position()+d1+d2)%40 )"
   ]
  },
  {
   "cell_type": "code",
   "execution_count": 4,
   "id": "49a22819",
   "metadata": {},
   "outputs": [],
   "source": [
    "p1 = Player(\"P1\", 0, [])\n",
    "p2 = Player(\"P2\", 0, [])\n",
    "p3 = Player(\"P3\", 0, [])\n",
    "p4 = Player(\"P4\", 0, [])\n",
    "\n",
    "p1_games = []\n",
    "p2_games = []\n",
    "p3_games = []\n",
    "p4_games = []\n",
    "\n",
    "player_list = [p1,p2,p3,p4]\n",
    "pos_list = np.arange(0,41)"
   ]
  },
  {
   "cell_type": "code",
   "execution_count": 5,
   "id": "96a8b609",
   "metadata": {},
   "outputs": [
    {
     "data": {
      "text/plain": [
       "0"
      ]
     },
     "execution_count": 5,
     "metadata": {},
     "output_type": "execute_result"
    }
   ],
   "source": [
    "p1.give_position()"
   ]
  },
  {
   "cell_type": "code",
   "execution_count": 6,
   "id": "b011bb67",
   "metadata": {},
   "outputs": [],
   "source": [
    "def game(player_list):\n",
    "    for var in range(0,50):\n",
    "        for player in player_list:\n",
    "            roll(player)\n",
    "            player.update_movements( player.give_position() )"
   ]
  },
  {
   "cell_type": "code",
   "execution_count": 7,
   "id": "2ca74bb4",
   "metadata": {},
   "outputs": [],
   "source": [
    "#Simulate games and save the movements on pn_games\n",
    "def simulate_games(n):\n",
    "    for var in range(n):\n",
    "        game(player_list)\n",
    "        p1_games.append(dict( Counter(p1.give_movements()) ) )\n",
    "        p2_games.append(dict( Counter(p2.give_movements()) ) )\n",
    "        p3_games.append(dict( Counter(p3.give_movements()) ) )\n",
    "        p4_games.append(dict( Counter(p4.give_movements()) ) )\n",
    "\n",
    "        player_list[0] = Player(\"P1\", 0, [])\n",
    "        player_list[1] = Player(\"P2\", 0, [])\n",
    "        player_list[2] = Player(\"P3\", 0, [])\n",
    "        player_list[3] = Player(\"P4\", 0, [])\n"
   ]
  },
  {
   "cell_type": "code",
   "execution_count": 8,
   "id": "7313075d",
   "metadata": {},
   "outputs": [],
   "source": [
    "simulate_games(100)"
   ]
  },
  {
   "cell_type": "code",
   "execution_count": 9,
   "id": "0f22df8f",
   "metadata": {},
   "outputs": [],
   "source": [
    "zeros = dict(zip([var for var in range(41)], [0 for var in range(41)]))"
   ]
  },
  {
   "cell_type": "code",
   "execution_count": 10,
   "id": "a7a2210a",
   "metadata": {},
   "outputs": [],
   "source": [
    "counter = collections.Counter()\n",
    "for d in p1_games: \n",
    "    counter.update(d)"
   ]
  },
  {
   "cell_type": "code",
   "execution_count": 11,
   "id": "2e7725ce",
   "metadata": {},
   "outputs": [
    {
     "data": {
      "text/plain": [
       "Counter({6: 200,\n",
       "         12: 300,\n",
       "         24: 300,\n",
       "         31: 200,\n",
       "         37: 300,\n",
       "         13: 100,\n",
       "         17: 300,\n",
       "         30: 100,\n",
       "         36: 200,\n",
       "         8: 200,\n",
       "         20: 200,\n",
       "         5: 100,\n",
       "         10: 300,\n",
       "         16: 200,\n",
       "         26: 200,\n",
       "         3: 100,\n",
       "         34: 100,\n",
       "         2: 100,\n",
       "         35: 100,\n",
       "         0: 200,\n",
       "         4: 100,\n",
       "         19: 100,\n",
       "         22: 200,\n",
       "         28: 200,\n",
       "         1: 100,\n",
       "         7: 100,\n",
       "         14: 100,\n",
       "         21: 100,\n",
       "         33: 100,\n",
       "         15: 100})"
      ]
     },
     "execution_count": 11,
     "metadata": {},
     "output_type": "execute_result"
    }
   ],
   "source": [
    "counter"
   ]
  },
  {
   "cell_type": "markdown",
   "id": "e7ae231b",
   "metadata": {},
   "source": [
    "p1_total = dict(functools.reduce(operator.add,\n",
    "         map(collections.Counter, p1_games)))"
   ]
  },
  {
   "cell_type": "code",
   "execution_count": 16,
   "id": "7fd15ba5",
   "metadata": {},
   "outputs": [
    {
     "data": {
      "text/plain": [
       "{6: 2,\n",
       " 12: 3,\n",
       " 24: 3,\n",
       " 31: 2,\n",
       " 37: 3,\n",
       " 13: 1,\n",
       " 17: 3,\n",
       " 30: 1,\n",
       " 36: 2,\n",
       " 8: 2,\n",
       " 20: 2,\n",
       " 5: 1,\n",
       " 10: 3,\n",
       " 16: 2,\n",
       " 26: 2,\n",
       " 3: 1,\n",
       " 34: 1,\n",
       " 2: 1,\n",
       " 35: 1,\n",
       " 0: 2,\n",
       " 4: 1,\n",
       " 19: 1,\n",
       " 22: 2,\n",
       " 28: 2,\n",
       " 1: 1,\n",
       " 7: 1,\n",
       " 14: 1,\n",
       " 21: 1,\n",
       " 33: 1,\n",
       " 15: 1}"
      ]
     },
     "execution_count": 16,
     "metadata": {},
     "output_type": "execute_result"
    }
   ],
   "source": [
    "p1_games[15]"
   ]
  },
  {
   "cell_type": "code",
   "execution_count": 13,
   "id": "653cc380",
   "metadata": {},
   "outputs": [],
   "source": [
    "distribution = dict.fromkeys(pos_list, np.zeros(40))"
   ]
  },
  {
   "cell_type": "code",
   "execution_count": 14,
   "id": "73f1c8ca",
   "metadata": {},
   "outputs": [
    {
     "name": "stdout",
     "output_type": "stream",
     "text": [
      "{6: 2, 12: 3, 24: 3, 31: 2, 37: 3, 13: 1, 17: 3, 30: 1, 36: 2, 8: 2, 20: 2, 5: 1, 10: 3, 16: 2, 26: 2, 3: 1, 34: 1, 2: 1, 35: 1, 0: 2, 4: 1, 19: 1, 22: 2, 28: 2, 1: 1, 7: 1, 14: 1, 21: 1, 33: 1, 15: 1}\n"
     ]
    }
   ],
   "source": [
    "print(p1_games[0])"
   ]
  },
  {
   "cell_type": "code",
   "execution_count": 15,
   "id": "7373924e",
   "metadata": {},
   "outputs": [
    {
     "ename": "AttributeError",
     "evalue": "'int' object has no attribute 'keys'",
     "output_type": "error",
     "traceback": [
      "\u001b[0;31m---------------------------------------------------------------------------\u001b[0m",
      "\u001b[0;31mAttributeError\u001b[0m                            Traceback (most recent call last)",
      "\u001b[0;32m/tmp/ipykernel_29153/1048694015.py\u001b[0m in \u001b[0;36m<module>\u001b[0;34m\u001b[0m\n\u001b[1;32m      1\u001b[0m \u001b[0;32mfor\u001b[0m \u001b[0mvar\u001b[0m \u001b[0;32min\u001b[0m \u001b[0mrange\u001b[0m\u001b[0;34m(\u001b[0m\u001b[0mlen\u001b[0m\u001b[0;34m(\u001b[0m\u001b[0mp1_games\u001b[0m\u001b[0;34m)\u001b[0m\u001b[0;34m)\u001b[0m\u001b[0;34m:\u001b[0m\u001b[0;34m\u001b[0m\u001b[0;34m\u001b[0m\u001b[0m\n\u001b[0;32m----> 2\u001b[0;31m     \u001b[0mvar\u001b[0m\u001b[0;34m.\u001b[0m\u001b[0mkeys\u001b[0m\u001b[0;34m(\u001b[0m\u001b[0;34m)\u001b[0m\u001b[0;34m\u001b[0m\u001b[0;34m\u001b[0m\u001b[0m\n\u001b[0m",
      "\u001b[0;31mAttributeError\u001b[0m: 'int' object has no attribute 'keys'"
     ]
    }
   ],
   "source": [
    "for var in range(len(p1_games)):\n",
    "    var.keys()"
   ]
  },
  {
   "cell_type": "code",
   "execution_count": null,
   "id": "02e1116c",
   "metadata": {},
   "outputs": [],
   "source": [
    "print(distribution[list(p1_games[100].keys())])"
   ]
  }
 ],
 "metadata": {
  "kernelspec": {
   "display_name": "Python 3 (ipykernel)",
   "language": "python",
   "name": "python3"
  },
  "language_info": {
   "codemirror_mode": {
    "name": "ipython",
    "version": 3
   },
   "file_extension": ".py",
   "mimetype": "text/x-python",
   "name": "python",
   "nbconvert_exporter": "python",
   "pygments_lexer": "ipython3",
   "version": "3.9.7"
  }
 },
 "nbformat": 4,
 "nbformat_minor": 5
}
