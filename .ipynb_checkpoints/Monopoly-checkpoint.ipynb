{
 "cells": [
  {
   "cell_type": "code",
   "execution_count": 1,
   "id": "26c45244",
   "metadata": {},
   "outputs": [],
   "source": [
    "import numpy as np\n",
    "from random import randint\n",
    "from collections import Counter\n",
    "import csv "
   ]
  },
  {
   "cell_type": "code",
   "execution_count": 2,
   "id": "c2d23688",
   "metadata": {},
   "outputs": [],
   "source": [
    "class Player:\n",
    "\n",
    "    def __init__(self, name, position, movements):\n",
    "        self.name = name\n",
    "        self.position = position\n",
    "        self.movements = movements\n",
    "    \n",
    "    def give_name(self):\n",
    "        return self.name\n",
    "    \n",
    "    def give_position(self):\n",
    "        return self.position\n",
    "    \n",
    "    def give_movements(self):\n",
    "        return self.movements\n",
    "    \n",
    "    def change_position(self, new_pos):\n",
    "        self.position = new_pos\n",
    "        \n",
    "    def update_movements(self, mov):\n",
    "        self.movements.append(mov)"
   ]
  },
  {
   "cell_type": "code",
   "execution_count": 3,
   "id": "5db24af7",
   "metadata": {},
   "outputs": [],
   "source": [
    "def roll (player):\n",
    "    d1=randint(1,6)\n",
    "    d2=randint(1,6)\n",
    "    player.change_position( (player.give_position()+d1+d2)%40 )"
   ]
  },
  {
   "cell_type": "code",
   "execution_count": 4,
   "id": "49a22819",
   "metadata": {},
   "outputs": [],
   "source": [
    "p1 = Player(\"P1\", 0, [])\n",
    "p2 = Player(\"P2\", 0, [])\n",
    "p3 = Player(\"P3\", 0, [])\n",
    "p4 = Player(\"P4\", 0, [])\n",
    "\n",
    "p1_games = []\n",
    "p2_games = []\n",
    "p3_games = []\n",
    "p4_games = []\n",
    "\n",
    "player_list = [p1,p2,p3,p4]\n",
    "pos_list = np.arange(0,41)"
   ]
  },
  {
   "cell_type": "code",
   "execution_count": 5,
   "id": "96a8b609",
   "metadata": {},
   "outputs": [
    {
     "data": {
      "text/plain": [
       "0"
      ]
     },
     "execution_count": 5,
     "metadata": {},
     "output_type": "execute_result"
    }
   ],
   "source": [
    "p1.give_position()"
   ]
  },
  {
   "cell_type": "code",
   "execution_count": 5,
   "id": "b011bb67",
   "metadata": {},
   "outputs": [],
   "source": [
    "def game(player_list):\n",
    "    for var in range(0,50):\n",
    "        for player in player_list:\n",
    "            roll(player)\n",
    "            player.update_movements( player.give_position() )"
   ]
  },
  {
   "cell_type": "code",
   "execution_count": 6,
   "id": "2ca74bb4",
   "metadata": {},
   "outputs": [],
   "source": [
    "def simulate_games(n):\n",
    "    for var in range(n):\n",
    "        game(player_list)\n",
    "        p1_games.append(dict( Counter(p1.give_movements()) ) )\n",
    "        p2_games.append(dict( Counter(p2.give_movements()) ) )\n",
    "        p3_games.append(dict( Counter(p3.give_movements()) ) )\n",
    "        p4_games.append(dict( Counter(p4.give_movements()) ) )\n",
    "\n",
    "        player_list[0] = Player(\"P1\", 0, [])\n",
    "        player_list[1] = Player(\"P2\", 0, [])\n",
    "        player_list[2] = Player(\"P3\", 0, [])\n",
    "        player_list[3] = Player(\"P4\", 0, [])\n"
   ]
  },
  {
   "cell_type": "code",
   "execution_count": 7,
   "id": "7313075d",
   "metadata": {},
   "outputs": [],
   "source": [
    "simulate_games(1000)"
   ]
  },
  {
   "cell_type": "code",
   "execution_count": null,
   "id": "0b451c06",
   "metadata": {},
   "outputs": [],
   "source": []
  },
  {
   "cell_type": "code",
   "execution_count": 8,
   "id": "02e1116c",
   "metadata": {},
   "outputs": [
    {
     "name": "stdout",
     "output_type": "stream",
     "text": [
      "[10, 16, 23, 27, 29, 37, 4, 13, 21, 34, 6, 9, 24, 30, 1, 14, 25, 32, 0, 12, 31, 36, 8, 19, 26, 38, 3, 15]\n"
     ]
    }
   ],
   "source": [
    "print(list(p1_games[1].keys()))"
   ]
  }
 ],
 "metadata": {
  "kernelspec": {
   "display_name": "Python 3 (ipykernel)",
   "language": "python",
   "name": "python3"
  },
  "language_info": {
   "codemirror_mode": {
    "name": "ipython",
    "version": 3
   },
   "file_extension": ".py",
   "mimetype": "text/x-python",
   "name": "python",
   "nbconvert_exporter": "python",
   "pygments_lexer": "ipython3",
   "version": "3.9.7"
  }
 },
 "nbformat": 4,
 "nbformat_minor": 5
}
